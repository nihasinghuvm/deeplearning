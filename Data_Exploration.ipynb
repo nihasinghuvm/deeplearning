{
  "nbformat": 4,
  "nbformat_minor": 0,
  "metadata": {
    "colab": {
      "provenance": []
    },
    "kernelspec": {
      "name": "python3",
      "display_name": "Python 3"
    },
    "language_info": {
      "name": "python"
    }
  },
  "cells": [
    {
      "cell_type": "code",
      "execution_count": null,
      "metadata": {
        "colab": {
          "base_uri": "https://localhost:8080/"
        },
        "id": "TgNOBAWDhNjz",
        "outputId": "e810fe44-fbe8-4faa-f17e-1f334aa45d62"
      },
      "outputs": [
        {
          "output_type": "stream",
          "name": "stdout",
          "text": [
            "X\n",
            "X/sequence\n",
            "Y\n",
            "Y/output\n",
            "weights\n"
          ]
        }
      ],
      "source": [
        "import h5py\n",
        "\n",
        "with h5py.File('/content/sample_data/train.hdf5', 'r') as file:\n",
        "    # Print all group names (keys) in the file\n",
        "    def print_attrs(name, obj):\n",
        "        print(name)\n",
        "\n",
        "    file.visititems(print_attrs)\n",
        "\n"
      ]
    },
    {
      "cell_type": "code",
      "source": [
        "import h5py\n",
        "\n",
        "with h5py.File('/content/sample_data/train.hdf5', 'r') as file:\n",
        "    # List all groups and datasets\n",
        "    def explore_structure(name, obj):\n",
        "        if isinstance(obj, h5py.Dataset):\n",
        "            print(f\"Dataset: {name}\")\n",
        "        elif isinstance(obj, h5py.Group):\n",
        "            print(f\"Group: {name}\")\n",
        "\n",
        "    file.visititems(explore_structure)\n"
      ],
      "metadata": {
        "colab": {
          "base_uri": "https://localhost:8080/"
        },
        "id": "4_PafVUmi76Y",
        "outputId": "047b30b5-cc34-4be6-d303-e8808d4485d6"
      },
      "execution_count": null,
      "outputs": [
        {
          "output_type": "stream",
          "name": "stdout",
          "text": [
            "Group: X\n",
            "Dataset: X/sequence\n",
            "Group: Y\n",
            "Dataset: Y/output\n",
            "Group: weights\n"
          ]
        }
      ]
    },
    {
      "cell_type": "code",
      "source": [
        "with h5py.File('/content/sample_data/train.hdf5', 'r') as file:\n",
        "    # Accessing the dataset 'sequence' under group 'X'\n",
        "    sequence_data = file['X/sequence'][:]\n",
        "    print(\"Sequence data:\", sequence_data)\n",
        "\n",
        "    # Accessing the dataset 'output' under group 'Y'\n",
        "    output_data = file['Y/output'][:]\n",
        "    print(\"Output data:\", output_data)\n"
      ],
      "metadata": {
        "colab": {
          "base_uri": "https://localhost:8080/"
        },
        "id": "4oTSMtnijljX",
        "outputId": "38663d84-103b-46e3-ac4f-187080104a87"
      },
      "execution_count": null,
      "outputs": [
        {
          "output_type": "stream",
          "name": "stdout",
          "text": [
            "Sequence data: [[[0. 0. 1. 0.]\n",
            "  [0. 0. 1. 0.]\n",
            "  [0. 0. 1. 0.]\n",
            "  ...\n",
            "  [0. 1. 0. 0.]\n",
            "  [1. 0. 0. 0.]\n",
            "  [0. 1. 0. 0.]]\n",
            "\n",
            " [[0. 0. 1. 0.]\n",
            "  [0. 0. 0. 1.]\n",
            "  [0. 0. 1. 0.]\n",
            "  ...\n",
            "  [0. 1. 0. 0.]\n",
            "  [0. 1. 0. 0.]\n",
            "  [0. 1. 0. 0.]]\n",
            "\n",
            " [[0. 1. 0. 0.]\n",
            "  [0. 1. 0. 0.]\n",
            "  [0. 1. 0. 0.]\n",
            "  ...\n",
            "  [0. 1. 0. 0.]\n",
            "  [0. 1. 0. 0.]\n",
            "  [0. 1. 0. 0.]]\n",
            "\n",
            " ...\n",
            "\n",
            " [[0. 0. 0. 1.]\n",
            "  [0. 1. 0. 0.]\n",
            "  [0. 1. 0. 0.]\n",
            "  ...\n",
            "  [1. 0. 0. 0.]\n",
            "  [0. 0. 1. 0.]\n",
            "  [0. 0. 1. 0.]]\n",
            "\n",
            " [[0. 0. 1. 0.]\n",
            "  [0. 0. 0. 1.]\n",
            "  [0. 1. 0. 0.]\n",
            "  ...\n",
            "  [0. 0. 1. 0.]\n",
            "  [1. 0. 0. 0.]\n",
            "  [0. 0. 1. 0.]]\n",
            "\n",
            " [[0. 1. 0. 0.]\n",
            "  [0. 0. 0. 1.]\n",
            "  [0. 1. 0. 0.]\n",
            "  ...\n",
            "  [0. 0. 1. 0.]\n",
            "  [1. 0. 0. 0.]\n",
            "  [0. 1. 0. 0.]]]\n",
            "Output data: [[-1.8394496  -1.3714164  -1.860508   ... -0.48974192 -0.25042853\n",
            "  -0.43638697]\n",
            " [-1.8394496  -1.3714164  -1.860508   ... -0.48974192 -0.25042853\n",
            "  -0.43638697]\n",
            " [-0.6241887  -0.2483657  -0.49987984 ...  0.03345118 -1.8992287\n",
            "  -1.1234441 ]\n",
            " ...\n",
            " [-0.8586054   1.5450506   0.45529526 ...  1.626769    0.5821582\n",
            "   1.2992789 ]\n",
            " [ 0.7190142   1.4066808   1.2546403  ...  0.24882215  0.6553631\n",
            "   0.5395422 ]\n",
            " [ 0.7190142   1.4066808   1.2546403  ...  0.24882215  0.6553631\n",
            "   0.5395422 ]]\n"
          ]
        }
      ]
    },
    {
      "cell_type": "code",
      "source": [
        "with h5py.File('/content/sample_data/valid.hdf5', 'r') as file:\n",
        "    # Accessing the dataset 'sequence' under group 'X'\n",
        "    sequence_data = file['X/sequence'][:]\n",
        "    print(\"Sequence data:\", sequence_data)\n",
        "\n",
        "    # Accessing the dataset 'output' under group 'Y'\n",
        "    output_data = file['Y/output'][:]\n",
        "    print(\"Output data:\", output_data)"
      ],
      "metadata": {
        "colab": {
          "base_uri": "https://localhost:8080/"
        },
        "id": "UixNxoE5kJ9z",
        "outputId": "bb70834a-f772-4b7c-ce3b-af25c5605dce"
      },
      "execution_count": null,
      "outputs": [
        {
          "output_type": "stream",
          "name": "stdout",
          "text": [
            "Sequence data: [[[0. 1. 0. 0.]\n",
            "  [0. 1. 0. 0.]\n",
            "  [0. 1. 0. 0.]\n",
            "  ...\n",
            "  [0. 0. 0. 1.]\n",
            "  [0. 1. 0. 0.]\n",
            "  [0. 1. 0. 0.]]\n",
            "\n",
            " [[0. 0. 0. 1.]\n",
            "  [0. 0. 0. 1.]\n",
            "  [0. 0. 0. 1.]\n",
            "  ...\n",
            "  [0. 1. 0. 0.]\n",
            "  [0. 1. 0. 0.]\n",
            "  [0. 1. 0. 0.]]\n",
            "\n",
            " [[1. 0. 0. 0.]\n",
            "  [0. 1. 0. 0.]\n",
            "  [0. 0. 0. 1.]\n",
            "  ...\n",
            "  [0. 1. 0. 0.]\n",
            "  [0. 0. 0. 1.]\n",
            "  [0. 1. 0. 0.]]\n",
            "\n",
            " ...\n",
            "\n",
            " [[1. 0. 0. 0.]\n",
            "  [1. 0. 0. 0.]\n",
            "  [1. 0. 0. 0.]\n",
            "  ...\n",
            "  [0. 1. 0. 0.]\n",
            "  [1. 0. 0. 0.]\n",
            "  [0. 0. 1. 0.]]\n",
            "\n",
            " [[1. 0. 0. 0.]\n",
            "  [0. 1. 0. 0.]\n",
            "  [1. 0. 0. 0.]\n",
            "  ...\n",
            "  [0. 0. 0. 1.]\n",
            "  [1. 0. 0. 0.]\n",
            "  [0. 0. 0. 1.]]\n",
            "\n",
            " [[0. 0. 0. 1.]\n",
            "  [0. 0. 0. 1.]\n",
            "  [0. 1. 0. 0.]\n",
            "  ...\n",
            "  [1. 0. 0. 0.]\n",
            "  [0. 0. 0. 1.]\n",
            "  [0. 1. 0. 0.]]]\n",
            "Output data: [[-0.8249799  -1.5034798  -1.3725991  ...  0.05413565  0.02142959\n",
            "   0.04447504]\n",
            " [-0.20448795 -0.53588045 -0.43909627 ...  0.20000751  0.3091786\n",
            "   0.30273333]\n",
            " [-1.2717273   0.27968097 -0.5425013  ...  0.81941444  0.6830795\n",
            "   0.889063  ]\n",
            " ...\n",
            " [ 0.5448266   0.92396593  0.8647128  ...  0.9470208   0.64274806\n",
            "   0.9392275 ]\n",
            " [-1.9823563  -1.5034798  -2.020509   ... -0.11254603 -0.699672\n",
            "  -0.486714  ]\n",
            " [-0.5421158   0.87866956  0.22879317 ...  0.9311703   0.29009548\n",
            "   0.71775496]]\n"
          ]
        }
      ]
    },
    {
      "cell_type": "code",
      "source": [
        "with h5py.File('/content/sample_data/test.hdf5', 'r') as file:\n",
        "    # Accessing the dataset 'sequence' under group 'X'\n",
        "    sequence_data = file['X/sequence'][:]\n",
        "    print(\"Sequence data:\", sequence_data)\n",
        "\n",
        "    # Accessing the dataset 'output' under group 'Y'\n",
        "    output_data = file['Y/output'][:]\n",
        "    print(\"Output data:\", output_data)"
      ],
      "metadata": {
        "colab": {
          "base_uri": "https://localhost:8080/"
        },
        "id": "tymY4XfmkNJS",
        "outputId": "794fdf7a-6371-4f8d-8e72-cc25324576df"
      },
      "execution_count": null,
      "outputs": [
        {
          "output_type": "stream",
          "name": "stdout",
          "text": [
            "Sequence data: [[[1. 0. 0. 0.]\n",
            "  [1. 0. 0. 0.]\n",
            "  [0. 0. 0. 1.]\n",
            "  ...\n",
            "  [1. 0. 0. 0.]\n",
            "  [0. 0. 1. 0.]\n",
            "  [0. 0. 1. 0.]]\n",
            "\n",
            " [[0. 0. 1. 0.]\n",
            "  [0. 0. 1. 0.]\n",
            "  [1. 0. 0. 0.]\n",
            "  ...\n",
            "  [1. 0. 0. 0.]\n",
            "  [0. 0. 0. 1.]\n",
            "  [0. 0. 1. 0.]]\n",
            "\n",
            " [[1. 0. 0. 0.]\n",
            "  [0. 0. 1. 0.]\n",
            "  [1. 0. 0. 0.]\n",
            "  ...\n",
            "  [1. 0. 0. 0.]\n",
            "  [0. 0. 1. 0.]\n",
            "  [1. 0. 0. 0.]]\n",
            "\n",
            " ...\n",
            "\n",
            " [[0. 0. 1. 0.]\n",
            "  [0. 0. 1. 0.]\n",
            "  [0. 0. 1. 0.]\n",
            "  ...\n",
            "  [1. 0. 0. 0.]\n",
            "  [1. 0. 0. 0.]\n",
            "  [0. 1. 0. 0.]]\n",
            "\n",
            " [[0. 1. 0. 0.]\n",
            "  [0. 1. 0. 0.]\n",
            "  [0. 0. 0. 1.]\n",
            "  ...\n",
            "  [1. 0. 0. 0.]\n",
            "  [1. 0. 0. 0.]\n",
            "  [1. 0. 0. 0.]]\n",
            "\n",
            " [[0. 0. 0. 1.]\n",
            "  [0. 0. 1. 0.]\n",
            "  [0. 1. 0. 0.]\n",
            "  ...\n",
            "  [1. 0. 0. 0.]\n",
            "  [0. 0. 0. 1.]\n",
            "  [0. 0. 0. 1.]]]\n",
            "Output data: [[-1.1480043  -1.559959   -1.5876448  ... -0.3099618  -0.28306702\n",
            "  -0.3511585 ]\n",
            " [-2.178577   -0.78698003 -1.6963186  ...  0.0445888   0.20941071\n",
            "   0.15203328]\n",
            " [ 1.2549686  -0.15427196  0.6090891  ...  0.6589449  -0.38040316\n",
            "   0.15545247]\n",
            " ...\n",
            " [-1.5651194  -0.81297344 -1.3686457  ...  0.09077324 -0.03004333\n",
            "   0.03487025]\n",
            " [-1.0637978   1.5679264   0.35428417 ...  0.34094787  0.46726388\n",
            "   0.48008326]\n",
            " [-0.70027    -0.31867415 -0.5850618  ...  0.16298671 -2.2122743\n",
            "  -1.2362738 ]]\n"
          ]
        }
      ]
    },
    {
      "cell_type": "code",
      "source": [
        "with h5py.File('/content/sample_data/train.hdf5', 'r') as file:\n",
        "    weights_group = file['weights']\n",
        "\n",
        "    # Print the contents of the 'weights' group\n",
        "    for name in weights_group:\n",
        "        print(f\"Dataset or group in 'weights': {name}\")"
      ],
      "metadata": {
        "id": "K216tfRjj2CF"
      },
      "execution_count": null,
      "outputs": []
    },
    {
      "cell_type": "code",
      "source": [
        "with h5py.File('/content/sample_data/test.hdf5', 'r') as file:\n",
        "    weights_group = file['weights']\n",
        "\n",
        "    # Print the contents of the 'weights' group\n",
        "    for name in weights_group:\n",
        "        print(f\"Dataset or group in 'weights': {name}\")"
      ],
      "metadata": {
        "id": "GNGuMD7skBdU"
      },
      "execution_count": null,
      "outputs": []
    },
    {
      "cell_type": "code",
      "source": [
        "with h5py.File('/content/sample_data/valid.hdf5', 'r') as file:\n",
        "    weights_group = file['weights']\n",
        "\n",
        "    # Print the contents of the 'weights' group\n",
        "    for name in weights_group:\n",
        "        print(f\"Dataset or group in 'weights': {name}\")"
      ],
      "metadata": {
        "id": "WAYfTQCukEXI"
      },
      "execution_count": null,
      "outputs": []
    },
    {
      "cell_type": "code",
      "source": [
        "import sqlite3\n",
        "from prettytable import PrettyTable\n",
        "\n",
        "# Connect to the database\n",
        "conn = sqlite3.connect('/content/sample_data/mprabase_v4_9.3.db')\n",
        "\n",
        "\n",
        "cursor = conn.cursor()\n",
        "\n",
        "# List all tables in the database\n",
        "cursor.execute(\"SELECT name FROM sqlite_master WHERE type='table';\")\n",
        "tables = cursor.fetchall()\n",
        "print(\"Tables in the database:\", tables)\n",
        "\n"
      ],
      "metadata": {
        "colab": {
          "base_uri": "https://localhost:8080/"
        },
        "id": "_06EtKu8kTHf",
        "outputId": "db8f459b-35dd-4951-ed33-444038d7be47"
      },
      "execution_count": null,
      "outputs": [
        {
          "output_type": "stream",
          "name": "stdout",
          "text": [
            "Tables in the database: [('designed_library',), ('library_sequence',), ('element_score',), ('element_rep_score',), ('datasets',), ('sample',)]\n"
          ]
        }
      ]
    },
    {
      "cell_type": "code",
      "source": [
        "cursor.execute(\"PRAGMA table_info(designed_library);\")\n",
        "columns = cursor.fetchall()\n",
        "pragma_headers = [desc[0] for desc in cursor.description]\n",
        "\n",
        "\n",
        "column_table = PrettyTable()\n",
        "column_table.field_names = pragma_headers\n",
        "\n",
        "# Add rows of column info based on output)\n",
        "for col in columns:\n",
        "    column_table.add_row(col)\n",
        "\n",
        "print(\"Columns in the table:\")\n",
        "print(column_table)\n",
        "\n",
        "# Fetch some data from the table\n",
        "cursor.execute(\"SELECT * FROM designed_library LIMIT 20;\")\n",
        "rows = cursor.fetchall()\n",
        "column_names = [description[0] for description in cursor.description]\n",
        "\n",
        "data_table = PrettyTable()\n",
        "data_table.field_names = column_names\n",
        "\n",
        "for row in rows:\n",
        "    data_table.add_row(row)\n",
        "\n",
        "print(\"\\nSample data:\")\n",
        "print(data_table)"
      ],
      "metadata": {
        "colab": {
          "base_uri": "https://localhost:8080/"
        },
        "id": "qqhKrkQtkjLm",
        "outputId": "c3f1dba3-37f0-443a-db9d-3559dd0b0b8b"
      },
      "execution_count": null,
      "outputs": [
        {
          "output_type": "stream",
          "name": "stdout",
          "text": [
            "Columns in the table:\n",
            "+-----+--------------------+------+---------+------------+----+\n",
            "| cid |        name        | type | notnull | dflt_value | pk |\n",
            "+-----+--------------------+------+---------+------------+----+\n",
            "|  0  |     library_id     | TEXT |    1    |    None    | 1  |\n",
            "|  1  |    library_name    | TEXT |    0    |    None    | 0  |\n",
            "|  2  |    datasets_id     | TEXT |    1    |    None    | 0  |\n",
            "|  3  | number_of_elements | TEXT |    0    |    None    | 0  |\n",
            "+-----+--------------------+------+---------+------------+----+\n",
            "\n",
            "Sample data:\n",
            "+--------------+---------------------------------------------------+-------------+--------------------+\n",
            "|  library_id  |                    library_name                   | datasets_id | number_of_elements |\n",
            "+--------------+---------------------------------------------------+-------------+--------------------+\n",
            "| DS0001-LID01 |             Cloned_array_oligo_library            |    DS0001   |        2440        |\n",
            "| DS0021-LID01 | Klein_Cloned_array_oligo_library_9_MPRA_libraries |    DS0021   |        2439        |\n",
            "| DS0021-LID02 |   Klein_Cloned_array_oligo_library_shortMedLong   |    DS0021   |        6908        |\n",
            "| DS0021-LID03 |  Klein_Cloned_array_oligo_library_forwardreverse  |    DS0021   |        2337        |\n",
            "| DS0002-LID01 |                Klein_STARR_Ortholog               |    DS0002   |        5218        |\n",
            "| DS0003-LID01 |                    Smith_Hepg2                    |    DS0003   |        4966        |\n",
            "| DS0004-LID01 |                    S2_STARR_SEQ                   |    DS0004   |        8384        |\n",
            "| DS0005-LID01 |              GM12878_plasmid library              |    DS0005   |      16092560      |\n",
            "| DS0006-LID01 |    Systematic Interrogation of Human Promoters    |    DS0006   |       15753        |\n",
            "| DS0026-LID01 |                 SYN library design                |    DS0026   |        625         |\n",
            "| DS0026-LID02 |                 GEN library design                |    DS0026   |        815         |\n",
            "| DS0007-LID01 |                   Choi_MPRA_Lib1                  |    DS0007   |       32580        |\n",
            "| DS0007-LID02 |                   Choi_MPRA_Lib2                  |    DS0007   |       36660        |\n",
            "| DS0008-LID01 |                     TN03_E_DNA                    |    DS0008   |                    |\n",
            "| DS0008-LID02 |                     TN03_P_DNA                    |    DS0008   |                    |\n",
            "| DS0008-LID03 |                     TN04_E_DNA                    |    DS0008   |                    |\n",
            "| DS0008-LID04 |                     TN04_P_DNA                    |    DS0008   |                    |\n",
            "| DS0008-LID05 |                     TN05_E_DNA                    |    DS0008   |                    |\n",
            "| DS0008-LID06 |                     TN05_P_DNA                    |    DS0008   |                    |\n",
            "| DS0008-LID07 |              TN03_DNA_Key_Development             |    DS0008   |                    |\n",
            "+--------------+---------------------------------------------------+-------------+--------------------+\n"
          ]
        }
      ]
    },
    {
      "cell_type": "code",
      "source": [
        "cursor.execute(\"PRAGMA table_info(library_sequence);\")\n",
        "columns = cursor.fetchall()\n",
        "\n",
        "pragma_headers = [desc[0] for desc in cursor.description]\n",
        "\n",
        "\n",
        "column_table = PrettyTable()\n",
        "column_table.field_names = pragma_headers\n",
        "\n",
        "for col in columns:\n",
        "    column_table.add_row(col)\n",
        "\n",
        "print(\"Columns in the table:\")\n",
        "print(column_table)\n",
        "\n",
        "\n",
        "cursor.execute(\"SELECT * FROM library_sequence LIMIT 5;\")\n",
        "rows = cursor.fetchall()\n",
        "\n",
        "column_names = [description[0] for description in cursor.description]\n",
        "\n",
        "\n",
        "data_table = PrettyTable()\n",
        "data_table.field_names = column_names\n",
        "\n",
        "for row in rows:\n",
        "    data_table.add_row(row)\n",
        "\n",
        "print(\"\\nSample data:\")\n",
        "print(data_table)"
      ],
      "metadata": {
        "colab": {
          "base_uri": "https://localhost:8080/"
        },
        "id": "c4Qb_z0TkoKj",
        "outputId": "f2221de6-b4d4-4b95-d5c5-a38e1850f149"
      },
      "execution_count": null,
      "outputs": [
        {
          "output_type": "stream",
          "name": "stdout",
          "text": [
            "Columns in the table:\n",
            "+-----+----------------------+------+---------+------------+----+\n",
            "| cid |         name         | type | notnull | dflt_value | pk |\n",
            "+-----+----------------------+------+---------+------------+----+\n",
            "|  0  |  library_element_id  | TEXT |    1    |    None    | 1  |\n",
            "|  1  |      library_id      | TEXT |    1    |    None    | 0  |\n",
            "|  2  |     genome_build     | TEXT |    0    |    None    | 0  |\n",
            "|  3  |  element_coordinate  | TEXT |    0    |    None    | 0  |\n",
            "|  4  | library_element_name | TEXT |    0    |    None    | 0  |\n",
            "|  5  |       sequence       | TEXT |    0    |    None    | 0  |\n",
            "+-----+----------------------+------+---------+------------+----+\n",
            "\n",
            "Sample data:\n",
            "+--------------------------+--------------+--------------+--------------------+----------------------------------------------------------------------+----------+\n",
            "|    library_element_id    |  library_id  | genome_build | element_coordinate |                         library_element_name                         | sequence |\n",
            "+--------------------------+--------------+--------------+--------------------+----------------------------------------------------------------------+----------+\n",
            "| DS0003-LID01-EID00000001 | DS0003-LID01 |              |                    |  hg18:chr2:210861483-210861650113:V_AHRARNT_02:GGGGATCGCGTGCCAGCCC   |          |\n",
            "| DS0003-LID01-EID00000002 | DS0003-LID01 |              |                    |       hg18:chr2:210861483-210861650113:V_AP2GAMMA_01:GCCCGGGGG       |          |\n",
            "| DS0003-LID01-EID00000003 | DS0003-LID01 |              |                    | hg18:chr2:210861483-210861650113:V_COUPTF_Q6:CCCCCTGACCTTTGCCCCCTGCC |          |\n",
            "| DS0003-LID01-EID00000004 | DS0003-LID01 |              |                    |       hg18:chr2:210861483-210861650113:V_GATA4_Q3:AGATAACAGGGA       |          |\n",
            "| DS0003-LID01-EID00000005 | DS0003-LID01 |              |                    |     hg18:chr2:210861483-210861650113:V_HNF1_C:AGTTAATGATTAACCAA      |          |\n",
            "+--------------------------+--------------+--------------+--------------------+----------------------------------------------------------------------+----------+\n"
          ]
        }
      ]
    },
    {
      "cell_type": "code",
      "source": [
        "cursor.execute(\"PRAGMA table_info(element_score);\")\n",
        "columns = cursor.fetchall()\n",
        "\n",
        "\n",
        "pragma_headers = [desc[0] for desc in cursor.description]\n",
        "\n",
        "column_table = PrettyTable()\n",
        "column_table.field_names = pragma_headers\n",
        "\n",
        "\n",
        "for col in columns:\n",
        "    column_table.add_row(col)\n",
        "\n",
        "print(\"Columns in the table:\")\n",
        "print(column_table)\n",
        "\n",
        "\n",
        "cursor.execute(\"SELECT * FROM element_score LIMIT 5;\")\n",
        "rows = cursor.fetchall()\n",
        "\n",
        "\n",
        "column_names = [description[0] for description in cursor.description]\n",
        "\n",
        "\n",
        "data_table = PrettyTable()\n",
        "data_table.field_names = column_names\n",
        "\n",
        "\n",
        "for row in rows:\n",
        "    data_table.add_row(row)\n",
        "\n",
        "print(\"\\nSample data:\")\n",
        "print(data_table)"
      ],
      "metadata": {
        "colab": {
          "base_uri": "https://localhost:8080/"
        },
        "id": "490z3POcko3T",
        "outputId": "301b907c-c1d4-4601-f234-ca6da12fb4d6"
      },
      "execution_count": null,
      "outputs": [
        {
          "output_type": "stream",
          "name": "stdout",
          "text": [
            "Columns in the table:\n",
            "+-----+----------------------+------+---------+------------+----+\n",
            "| cid |         name         | type | notnull | dflt_value | pk |\n",
            "+-----+----------------------+------+---------+------------+----+\n",
            "|  0  |  element_sample_id   | TEXT |    1    |    None    | 1  |\n",
            "|  1  | library_element_name | TEXT |    0    |    None    | 0  |\n",
            "|  2  |        score         | REAL |    1    |    None    | 0  |\n",
            "|  3  |  library_element_id  | TEXT |    1    |    None    | 0  |\n",
            "|  4  |      sample_id       | TEXT |    1    |    None    | 0  |\n",
            "|  5  |      library_id      | TEXT |    1    |    None    | 0  |\n",
            "+-----+----------------------+------+---------+------------+----+\n",
            "\n",
            "Sample data:\n",
            "+--------------------------+----------------------+--------------+--------------------------+--------------+--------------+\n",
            "|    element_sample_id     | library_element_name |    score     |    library_element_id    |  sample_id   |  library_id  |\n",
            "+--------------------------+----------------------+--------------+--------------------------+--------------+--------------+\n",
            "| DS0002-SID02-EID00006859 | X:87816252-87816446  | -0.529869953 | DS0002-LID02-EID00006859 | DS0002-SID02 | DS0002-LID02 |\n",
            "| DS0002-SID02-EID00006858 | X:87815952-87816146  | 0.466076894  | DS0002-LID02-EID00006858 | DS0002-SID02 | DS0002-LID02 |\n",
            "| DS0002-SID02-EID00006857 | X:87815752-87815946  | 0.832129049  | DS0002-LID02-EID00006857 | DS0002-SID02 | DS0002-LID02 |\n",
            "| DS0002-SID02-EID00006856 | X:87815552-87815746  | 0.223528503  | DS0002-LID02-EID00006856 | DS0002-SID02 | DS0002-LID02 |\n",
            "| DS0002-SID02-EID00006855 | X:87815052-87815246  | -0.038264413 | DS0002-LID02-EID00006855 | DS0002-SID02 | DS0002-LID02 |\n",
            "+--------------------------+----------------------+--------------+--------------------------+--------------+--------------+\n"
          ]
        }
      ]
    },
    {
      "cell_type": "code",
      "source": [
        "cursor.execute(\"PRAGMA table_info(element_rep_score);\")\n",
        "columns = cursor.fetchall()\n",
        "\n",
        "pragma_headers = [desc[0] for desc in cursor.description]\n",
        "\n",
        "\n",
        "column_table = PrettyTable()\n",
        "column_table.field_names = pragma_headers\n",
        "\n",
        "\n",
        "for col in columns:\n",
        "    column_table.add_row(col)\n",
        "\n",
        "print(\"Columns in the table:\")\n",
        "print(column_table)\n",
        "\n",
        "cursor.execute(\"SELECT * FROM element_rep_score LIMIT 5;\")\n",
        "rows = cursor.fetchall()\n",
        "\n",
        "\n",
        "column_names = [description[0] for description in cursor.description]\n",
        "\n",
        "\n",
        "data_table = PrettyTable()\n",
        "data_table.field_names = column_names\n",
        "\n",
        "for row in rows:\n",
        "    data_table.add_row(row)\n",
        "\n",
        "print(\"\\nSample data:\")\n",
        "print(data_table)"
      ],
      "metadata": {
        "colab": {
          "base_uri": "https://localhost:8080/"
        },
        "id": "adgcNy8ZmnJ2",
        "outputId": "4b8e6d4b-70d6-4ac0-c719-447faa751f8c"
      },
      "execution_count": null,
      "outputs": [
        {
          "output_type": "stream",
          "name": "stdout",
          "text": [
            "Columns in the table:\n",
            "+-----+--------------------+------+---------+------------+----+\n",
            "| cid |        name        | type | notnull | dflt_value | pk |\n",
            "+-----+--------------------+------+---------+------------+----+\n",
            "|  0  |   element_rep_id   | TEXT |    1    |    None    | 1  |\n",
            "|  1  |     sample_id      | TEXT |    1    |    None    | 0  |\n",
            "|  2  | library_element_id | TEXT |    1    |    None    | 0  |\n",
            "|  3  |        REP1        | REAL |    0    |    None    | 0  |\n",
            "|  4  |        REP2        | REAL |    0    |    None    | 0  |\n",
            "|  5  |        REP3        | REAL |    0    |    None    | 0  |\n",
            "|  6  |        REP4        | REAL |    0    |    None    | 0  |\n",
            "|  7  |        REP5        | REAL |    0    |    None    | 0  |\n",
            "|  8  |        REP6        | REAL |    0    |    None    | 0  |\n",
            "|  9  |        REP7        | REAL |    0    |    None    | 0  |\n",
            "|  10 |        REP8        | TEXT |    0    |    None    | 0  |\n",
            "|  11 |        REP9        | TEXT |    0    |    None    | 0  |\n",
            "|  12 |       REP10        | TEXT |    0    |    None    | 0  |\n",
            "|  13 |       REP11        | TEXT |    0    |    None    | 0  |\n",
            "|  14 |       REP12        | TEXT |    0    |    None    | 0  |\n",
            "|  15 |       REP13        | TEXT |    0    |    None    | 0  |\n",
            "|  16 |       REP14        | TEXT |    0    |    None    | 0  |\n",
            "|  17 |       REP15        | TEXT |    0    |    None    | 0  |\n",
            "|  18 |       REP16        | TEXT |    0    |    None    | 0  |\n",
            "|  19 |       REP17        | TEXT |    0    |    None    | 0  |\n",
            "|  20 |       REP18        | TEXT |    0    |    None    | 0  |\n",
            "|  21 |       REP19        | TEXT |    0    |    None    | 0  |\n",
            "|  22 |       REP20        | TEXT |    0    |    None    | 0  |\n",
            "|  23 |       REP21        | TEXT |    0    |    None    | 0  |\n",
            "|  24 |       REP22        | TEXT |    0    |    None    | 0  |\n",
            "|  25 |       REP23        | TEXT |    0    |    None    | 0  |\n",
            "|  26 |       REP24        | TEXT |    0    |    None    | 0  |\n",
            "|  27 |       REP25        | TEXT |    0    |    None    | 0  |\n",
            "+-----+--------------------+------+---------+------------+----+\n",
            "\n",
            "Sample data:\n",
            "+------------------------------+--------------+--------------------------+--------------+--------------+--------------+------+------+------+------+------+------+-------+-------+-------+-------+-------+-------+-------+-------+-------+-------+-------+-------+-------+-------+-------+-------+\n",
            "|        element_rep_id        |  sample_id   |    library_element_id    |     REP1     |     REP2     |     REP3     | REP4 | REP5 | REP6 | REP7 | REP8 | REP9 | REP10 | REP11 | REP12 | REP13 | REP14 | REP15 | REP16 | REP17 | REP18 | REP19 | REP20 | REP21 | REP22 | REP23 | REP24 | REP25 |\n",
            "+------------------------------+--------------+--------------------------+--------------+--------------+--------------+------+------+------+------+------+------+-------+-------+-------+-------+-------+-------+-------+-------+-------+-------+-------+-------+-------+-------+-------+-------+\n",
            "| DS0001-SID01-REP-EID00000001 | DS0001-SID01 | DS0001-LID01-EID00000001 | 0.9337856736 | 0.9713095383 | 0.9641061327 |      |      |      |      |      |      |       |       |       |       |       |       |       |       |       |       |       |       |       |       |       |       |\n",
            "| DS0001-SID01-REP-EID00000002 | DS0001-SID01 | DS0001-LID01-EID00000002 | 0.9778621307 | 0.9803764001 | 1.1290221946 |      |      |      |      |      |      |       |       |       |       |       |       |       |       |       |       |       |       |       |       |       |       |\n",
            "| DS0001-SID01-REP-EID00000003 | DS0001-SID01 | DS0001-LID01-EID00000003 | 0.8906822962 | 0.881488284  | 0.8690417856 |      |      |      |      |      |      |       |       |       |       |       |       |       |       |       |       |       |       |       |       |       |       |\n",
            "| DS0001-SID01-REP-EID00000004 | DS0001-SID01 | DS0001-LID01-EID00000004 | 1.1143083074 | 1.1637132427 | 1.1470612608 |      |      |      |      |      |      |       |       |       |       |       |       |       |       |       |       |       |       |       |       |       |       |\n",
            "| DS0001-SID01-REP-EID00000005 | DS0001-SID01 | DS0001-LID01-EID00000005 | 0.7421291999 | 0.7760066728 | 0.777035682  |      |      |      |      |      |      |       |       |       |       |       |       |       |       |       |       |       |       |       |       |       |       |\n",
            "+------------------------------+--------------+--------------------------+--------------+--------------+--------------+------+------+------+------+------+------+-------+-------+-------+-------+-------+-------+-------+-------+-------+-------+-------+-------+-------+-------+-------+-------+\n"
          ]
        }
      ]
    },
    {
      "cell_type": "code",
      "source": [
        "cursor.execute(\"PRAGMA table_info(datasets);\")\n",
        "columns = cursor.fetchall()\n",
        "\n",
        "\n",
        "pragma_headers = [desc[0] for desc in cursor.description]\n",
        "\n",
        "\n",
        "column_table = PrettyTable()\n",
        "column_table.field_names = pragma_headers\n",
        "for col in columns:\n",
        "    column_table.add_row(col)\n",
        "\n",
        "print(\"Columns in the table:\")\n",
        "print(column_table)\n",
        "\n",
        "\n",
        "cursor.execute(\"SELECT * FROM datasets LIMIT 5;\")\n",
        "rows = cursor.fetchall()\n",
        "\n",
        "column_names = [description[0] for description in cursor.description]\n",
        "\n",
        "data_table = PrettyTable()\n",
        "data_table.field_names = column_names\n",
        "\n",
        "for row in rows:\n",
        "    data_table.add_row(row)\n",
        "\n",
        "print(\"\\nSample data:\")\n",
        "print(data_table)"
      ],
      "metadata": {
        "colab": {
          "base_uri": "https://localhost:8080/"
        },
        "id": "nj6a8szBkpyg",
        "outputId": "32641c63-a6c2-47f6-cfb6-8ce549bdce43"
      },
      "execution_count": null,
      "outputs": [
        {
          "output_type": "stream",
          "name": "stdout",
          "text": [
            "Columns in the table:\n",
            "+-----+---------------+-------------+---------+------------+----+\n",
            "| cid |      name     |     type    | notnull | dflt_value | pk |\n",
            "+-----+---------------+-------------+---------+------------+----+\n",
            "|  0  |  datasets_id  |     TEXT    |    1    |    None    | 1  |\n",
            "|  1  | datasets_name |     TEXT    |    0    |    None    | 0  |\n",
            "|  2  |      PMID     |     TEXT    |    0    |    None    | 0  |\n",
            "|  3  |   GEO_number  | VARCHAR(10) |    0    |    None    | 0  |\n",
            "|  4  |   SRP_number  |     TEXT    |    0    |    None    | 0  |\n",
            "|  5  |   Reference   |     TEXT    |    0    |    None    | 0  |\n",
            "|  6  |      labs     |     TEXT    |    0    |    None    | 0  |\n",
            "+-----+---------------+-------------+---------+------------+----+\n",
            "\n",
            "Sample data:\n",
            "+-------------+--------------------+----------+------------+------------+----------------------------------------------------------------------------------------------------------------------+-----------------------------+\n",
            "| datasets_id |   datasets_name    |   PMID   | GEO_number | SRP_number |                                                      Reference                                                       |             labs            |\n",
            "+-------------+--------------------+----------+------------+------------+----------------------------------------------------------------------------------------------------------------------+-----------------------------+\n",
            "|    DS0001   |  Inoue_MPRA_HepG2  | 27831498 |  GSE83894  |            | A systematic comparison reveals substantial differences in chromosomal versus episomal encoding of enhancer activity |       Shendure,Ahituv       |\n",
            "|    DS0002   | Klein_STARR_HepG2  | 30045748 | GSE113978  |            |                      Functional characterization of enhancer evolution in the primate lineage.                       |           Shendure          |\n",
            "|    DS0003   |  Smith_MPRA_HepG2  | 23892608 |            | SRP018414  |        Massively parallel decoding of mammalian regulatory sequences supports a flexible organizational model        | Ahituv, Ovcharenko,Shendure |\n",
            "|    DS0004   |  Stark_STARR_SEQ   | 23328393 |  GSE40739  |            |                       Genome-Wide Quantitative Enhancer Activity Maps Identified by STARR-seq                        |            Stark            |\n",
            "|    DS0005   | Wang_HiDRA_GM12878 | 30568279 | GSE104001  |            |   High-resolution genome-wide functional dissection of transcriptional regulatory regions and nucleotides in human   |     Kellis, Claussnitzer    |\n",
            "+-------------+--------------------+----------+------------+------------+----------------------------------------------------------------------------------------------------------------------+-----------------------------+\n"
          ]
        }
      ]
    },
    {
      "cell_type": "code",
      "source": [
        "cursor.execute(\"PRAGMA table_info(sample);\")\n",
        "columns = cursor.fetchall()\n",
        "\n",
        "pragma_headers = [desc[0] for desc in cursor.description]\n",
        "\n",
        "column_table = PrettyTable()\n",
        "column_table.field_names = pragma_headers\n",
        "\n",
        "for col in columns:\n",
        "    column_table.add_row(col)\n",
        "\n",
        "print(\"Columns in the table:\")\n",
        "print(column_table)\n",
        "\n",
        "\n",
        "cursor.execute(\"SELECT * FROM sample LIMIT 5;\")\n",
        "rows = cursor.fetchall()\n",
        "\n",
        "column_names = [description[0] for description in cursor.description]\n",
        "\n",
        "data_table = PrettyTable()\n",
        "data_table.field_names = column_names\n",
        "\n",
        "for row in rows:\n",
        "    data_table.add_row(row)\n",
        "\n",
        "print(\"\\nSample data:\")\n",
        "print(data_table)"
      ],
      "metadata": {
        "colab": {
          "base_uri": "https://localhost:8080/"
        },
        "id": "eDhMahKwmQEb",
        "outputId": "04a1d02c-f277-4774-a44a-d2968b0de290"
      },
      "execution_count": null,
      "outputs": [
        {
          "output_type": "stream",
          "name": "stdout",
          "text": [
            "Columns in the table:\n",
            "+-----+------------------+------+---------+------------+----+\n",
            "| cid |       name       | type | notnull | dflt_value | pk |\n",
            "+-----+------------------+------+---------+------------+----+\n",
            "|  0  |    sample_id     | TEXT |    1    |    None    | 1  |\n",
            "|  1  |   sample_name    | TEXT |    0    |    None    | 0  |\n",
            "|  2  | Library_strategy | TEXT |    0    |    None    | 0  |\n",
            "|  3  |     Organism     | TEXT |    0    |    None    | 0  |\n",
            "|  4  | Cell_line_tissue | TEXT |    0    |    None    | 0  |\n",
            "|  5  |    library_id    | TEXT |    0    |    None    | 0  |\n",
            "|  6  | element_position | TEXT |    0    |    None    | 0  |\n",
            "|  7  |   DNA_RNA_reps   | TEXT |    0    |    None    | 0  |\n",
            "|  8  |   description    | TEXT |    0    |    None    | 0  |\n",
            "|  9  |  GenomeBrowser   | TEXT |    0    |    None    | 0  |\n",
            "|  10 |     rep_type     | TEXT |    0    |    None    | 0  |\n",
            "+-----+------------------+------+---------+------------+----+\n",
            "\n",
            "Sample data:\n",
            "+--------------+---------------------------------+------------------+--------------+------------------+--------------+------------------+--------------+---------------------+---------------------------------------------+----------+\n",
            "|  sample_id   |           sample_name           | Library_strategy |   Organism   | Cell_line_tissue |  library_id  | element_position | DNA_RNA_reps |     description     |                GenomeBrowser                | rep_type |\n",
            "+--------------+---------------------------------+------------------+--------------+------------------+--------------+------------------+--------------+---------------------+---------------------------------------------+----------+\n",
            "| DS0001-SID01 |   Inoue_Mutant_integrase_HepG2  |    lentiMPRA     | Homo sapiens |      HepG2       | DS0001-LID01 |      5'/3'       |      3       |   Mutant integrase  |            DS0001-SID01_hg19.bed;           |          |\n",
            "|              |                                 |                  |              |                  |              |                  |              |                     |            DS0001-SID01_hg18.bed            |          |\n",
            "| DS0001-SID02 | Inoue_Wild-type_integrase_HepG2 |    lentiMPRA     | Homo sapiens |      HepG2       | DS0001-LID01 |      5'/3'       |      3       | Wild-type integrase | DS0001-SID02_hg18.bed;DS0001-SID02_hg19.bed |          |\n",
            "| DS0002-SID01 |     Klein_STARR_Tiling_HepG2    |    STARR-seq     | Homo sapiens |      HepG2       | DS0002-LID01 |                  |      3       |        Tiling       |            DS0002-SID01_hg19.bed            |          |\n",
            "| DS0002-SID02 |   Klein_STARR_Orthologs_HepG2   |    STARR-seq     | Homo sapiens |      HepG2       | DS0002-LID01 |                  |      3       |      Orthologs      |            DS0002-SID02_hg19.bed            |          |\n",
            "| DS0003-SID01 |    Smith_MPRA_mouse_synthetic   |   plasmidMPRA    | Mus musculus |      liver       | DS0003-LID01 |                  |      3       |      mouse_MPRA     |            DS0003-SID01_hg18.bed            |   None   |\n",
            "+--------------+---------------------------------+------------------+--------------+------------------+--------------+------------------+--------------+---------------------+---------------------------------------------+----------+\n"
          ]
        }
      ]
    },
    {
      "cell_type": "code",
      "source": [
        "!pip install zarr"
      ],
      "metadata": {
        "colab": {
          "base_uri": "https://localhost:8080/"
        },
        "id": "AGbL3Ad4rqIL",
        "outputId": "5745d3e8-52bb-4754-932e-a46e3a5153e9"
      },
      "execution_count": null,
      "outputs": [
        {
          "output_type": "stream",
          "name": "stdout",
          "text": [
            "Collecting zarr\n",
            "  Downloading zarr-2.18.3-py3-none-any.whl.metadata (5.7 kB)\n",
            "Collecting asciitree (from zarr)\n",
            "  Downloading asciitree-0.3.3.tar.gz (4.0 kB)\n",
            "  Preparing metadata (setup.py) ... \u001b[?25l\u001b[?25hdone\n",
            "Requirement already satisfied: numpy>=1.24 in /usr/local/lib/python3.10/dist-packages (from zarr) (1.26.4)\n",
            "Collecting numcodecs>=0.10.0 (from zarr)\n",
            "  Downloading numcodecs-0.13.0-cp310-cp310-manylinux_2_17_x86_64.manylinux2014_x86_64.whl.metadata (2.9 kB)\n",
            "Collecting fasteners (from zarr)\n",
            "  Downloading fasteners-0.19-py3-none-any.whl.metadata (4.9 kB)\n",
            "Downloading zarr-2.18.3-py3-none-any.whl (210 kB)\n",
            "\u001b[2K   \u001b[90m━━━━━━━━━━━━━━━━━━━━━━━━━━━━━━━━━━━━━━━━\u001b[0m \u001b[32m210.7/210.7 kB\u001b[0m \u001b[31m7.3 MB/s\u001b[0m eta \u001b[36m0:00:00\u001b[0m\n",
            "\u001b[?25hDownloading numcodecs-0.13.0-cp310-cp310-manylinux_2_17_x86_64.manylinux2014_x86_64.whl (8.6 MB)\n",
            "\u001b[2K   \u001b[90m━━━━━━━━━━━━━━━━━━━━━━━━━━━━━━━━━━━━━━━━\u001b[0m \u001b[32m8.6/8.6 MB\u001b[0m \u001b[31m69.4 MB/s\u001b[0m eta \u001b[36m0:00:00\u001b[0m\n",
            "\u001b[?25hDownloading fasteners-0.19-py3-none-any.whl (18 kB)\n",
            "Building wheels for collected packages: asciitree\n",
            "  Building wheel for asciitree (setup.py) ... \u001b[?25l\u001b[?25hdone\n",
            "  Created wheel for asciitree: filename=asciitree-0.3.3-py3-none-any.whl size=5033 sha256=f1579146f65f32a30d1d3f1e79c0bd7eb71504bd24a4f81aed4e2ee51366e3a1\n",
            "  Stored in directory: /root/.cache/pip/wheels/7f/4e/be/1171b40f43b918087657ec57cf3b81fa1a2e027d8755baa184\n",
            "Successfully built asciitree\n",
            "Installing collected packages: asciitree, numcodecs, fasteners, zarr\n",
            "Successfully installed asciitree-0.3.3 fasteners-0.19 numcodecs-0.13.0 zarr-2.18.3\n"
          ]
        }
      ]
    },
    {
      "cell_type": "code",
      "source": [
        "import numpy as np\n",
        "import zarr\n",
        "from PIL import Image\n",
        "\n",
        "image = Image.open('/content/drive/MyDrive/(09)-Pereyra2021A-BMCBioinformatics/DS0001/(F1)-ZStacks-Fusion-ZS/CH0001/DR(F1)/Pereyra2021A-DS0001TP0001DR(F1)CH0001PL(AS).TIF')\n",
        "\n",
        "image_data = np.array(image)\n",
        "\n",
        "# Create a .zarr store\n",
        "zarr_store = zarr.open('/content/sample_data', mode='w', shape=image_data.shape, dtype=image_data.dtype)\n",
        "\n",
        "zarr_store[:] = image_data\n"
      ],
      "metadata": {
        "id": "6NQtd2luqpU-"
      },
      "execution_count": null,
      "outputs": []
    },
    {
      "cell_type": "code",
      "source": [
        "import numpy as np\n",
        "import zarr\n",
        "from PIL import Image\n",
        "\n",
        "image = Image.open('/content/drive/MyDrive/(09)-Pereyra2021A-BMCBioinformatics/DS0001/(F1)-ZStacks-Fusion-ZS/CH0001/DR(F1)/Pereyra2021A-DS0001TP0002DR(F1)CH0001PL(AS).TIF')\n",
        "\n",
        "image_data = np.array(image)\n",
        "\n",
        "# Create a .zarr store\n",
        "zarr_store = zarr.open('/content/sample_data', mode='w', shape=image_data.shape, dtype=image_data.dtype)\n",
        "\n",
        "zarr_store[:] = image_data\n"
      ],
      "metadata": {
        "id": "553tGQ3osjKe"
      },
      "execution_count": null,
      "outputs": []
    }
  ]
}